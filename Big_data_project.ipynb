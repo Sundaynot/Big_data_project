{
  "nbformat": 4,
  "nbformat_minor": 0,
  "metadata": {
    "colab": {
      "provenance": [],
      "authorship_tag": "ABX9TyMXYtNhPgvHoCnZjcJBlvYW",
      "include_colab_link": true
    },
    "kernelspec": {
      "name": "python3",
      "display_name": "Python 3"
    },
    "language_info": {
      "name": "python"
    }
  },
  "cells": [
    {
      "cell_type": "markdown",
      "metadata": {
        "id": "view-in-github",
        "colab_type": "text"
      },
      "source": [
        "<a href=\"https://colab.research.google.com/github/Sundaynot/Big_data_project/blob/main/Big_data_project.ipynb\" target=\"_parent\"><img src=\"https://colab.research.google.com/assets/colab-badge.svg\" alt=\"Open In Colab\"/></a>"
      ]
    },
    {
      "cell_type": "markdown",
      "source": [
        "CARICAMENTO spark"
      ],
      "metadata": {
        "id": "9vwBdIxDLGzo"
      }
    },
    {
      "cell_type": "code",
      "source": [
        "!pip install pyspark\n",
        "!pip install -U -q PyDrive2\n",
        "#l'output 'xxx is not a symbolic link' non influirà sull'implementazione o esecuzione\n",
        "#per risolvere 'xxx is not a symbolic link', commenta le righe che iniziano con !mv xxxx\n",
        "#dovresti sostituire xxx.11 con la versione corretta se si verificano altri errori dopo un aggiornamento di Colab\n",
        "#per ottenre la versione corretta, usa !ls /usr/local/lib per verificarla\n",
        "#!mv /usr/local/lib/libtbbmalloc_proxy.so.2 /usr/local/lib/libtbbmalloc_proxy.so.2.backup\n",
        "#!mv /usr/local/lib/libtbbmalloc.so.2 /usr/local/lib/libtbbmalloc.so.2.backup\n",
        "#!mv /usr/local/lib/libtbbbind_2_5.so.3 /usr/local/lib/libtbbbind_2_5.so.3.backup\n",
        "#!mv /usr/local/lib/libtbb.so.12 /usr/local/lib/libtbb.so.12.backup\n",
        "#!mv /usr/local/lib/libtbbbind_2_0.so.3 /usr/local/lib/libtbbbind_2_0.so.3.backup\n",
        "#!mv /usr/local/lib/libtbbbind.so.3 /usr/local/lib/libtbbbind.so.3.backup\n",
        "!ln -s /usr/local/lib/libtbbmalloc_proxy.so.2.11 /usr/local/lib/libtbbmalloc_proxy.so.2\n",
        "!ln -s /usr/local/lib/libtbbmalloc.so.2.11 /usr/local/lib/libtbbmalloc.so.2\n",
        "!ln -s /usr/local/lib/libtbbbind_2_5.so.3.11 /usr/local/lib/libtbbbind_2_5.so.3\n",
        "!ln -s /usr/local/lib/libtbb.so.12.11 /usr/local/lib/libtbb.so.12\n",
        "!ln -s /usr/local/lib/libtbbbind_2_0.so.3.11 /usr/local/lib/libtbbbind_2_0.so.3\n",
        "!ln -s /usr/local/lib/libtbbbind.so.3.11 /usr/local/lib/libtbbbind.so.3\n",
        "# !sudo ldconfig\n",
        "#Se si verifica un errore relativo all'esecuzione sopra indicata, puoi provare a commentare le 12 righe sopra sotto l'installazione di\n",
        "!apt install openjdk-8-jdk-headless -qq\n",
        "import os\n",
        "os.environ[\"JAVA_HOME\"] = \"/usr/lib/jvm/java-8-openjdk-amd64\"\n",
        "#l'output 'xxx is not a symbolic link' non influirà sulla tua implementazione o esecuzione\n",
        "#per risolvere 'xxx is not a symbolic link', puoi commentare le righe che iniziano con !mv xxxx\n",
        "#dovresti sostituire xxx.11 con la versione corretta se si verificano altri errori dopo un aggiornamento di Colab\n",
        "#per ottenre la versione corretta, usa !ls /usr/local/lib per verificarla"
      ],
      "metadata": {
        "id": "JxXCjPla_4fP",
        "outputId": "8e462a7d-c1af-4e06-d56e-b1c79cfa9055",
        "colab": {
          "base_uri": "https://localhost:8080/"
        }
      },
      "execution_count": 5,
      "outputs": [
        {
          "output_type": "stream",
          "name": "stdout",
          "text": [
            "Requirement already satisfied: pyspark in /usr/local/lib/python3.12/dist-packages (3.5.1)\n",
            "Requirement already satisfied: py4j==0.10.9.7 in /usr/local/lib/python3.12/dist-packages (from pyspark) (0.10.9.7)\n",
            "ln: failed to create symbolic link '/usr/local/lib/libtbbmalloc_proxy.so.2': File exists\n",
            "ln: failed to create symbolic link '/usr/local/lib/libtbbmalloc.so.2': File exists\n",
            "ln: failed to create symbolic link '/usr/local/lib/libtbbbind_2_5.so.3': File exists\n",
            "ln: failed to create symbolic link '/usr/local/lib/libtbb.so.12': File exists\n",
            "ln: failed to create symbolic link '/usr/local/lib/libtbbbind_2_0.so.3': File exists\n",
            "ln: failed to create symbolic link '/usr/local/lib/libtbbbind.so.3': File exists\n",
            "openjdk-8-jdk-headless is already the newest version (8u462-ga~us1-0ubuntu2~22.04.2).\n",
            "0 upgraded, 0 newly installed, 0 to remove and 38 not upgraded.\n"
          ]
        }
      ]
    },
    {
      "cell_type": "markdown",
      "source": [
        "Creazione della SparkSession\n"
      ],
      "metadata": {
        "id": "RVM7uZ4xLKL6"
      }
    },
    {
      "cell_type": "code",
      "execution_count": 7,
      "metadata": {
        "id": "o3m1q-anj8pw",
        "colab": {
          "base_uri": "https://localhost:8080/"
        },
        "outputId": "d52aa109-1bd2-4859-a191-82c7811fbe4b"
      },
      "outputs": [
        {
          "output_type": "stream",
          "name": "stdout",
          "text": [
            "✅ Ambiente Spark pronto!\n"
          ]
        }
      ],
      "source": [
        "\n",
        "# 4. Creazione della SparkSession\n",
        "from pyspark.sql import SparkSession\n",
        "spark = SparkSession.builder \\\n",
        "    .master(\"local[*]\") \\\n",
        "    .appName(\"LordOfTheRings_Analysis\") \\\n",
        "    .getOrCreate()\n",
        "\n",
        "print(\"✅ Ambiente Spark pronto!\")\n"
      ]
    },
    {
      "cell_type": "markdown",
      "source": [
        "CLONAZIONE DEL REPOSITORY GIT"
      ],
      "metadata": {
        "id": "VfTArLtLLNuJ"
      }
    },
    {
      "cell_type": "code",
      "source": [
        "\n",
        "# ===============================================================\n",
        "# FASE 2: CLONAZIONE DEL REPOSITORY GIT\n",
        "# ===============================================================\n",
        "\n",
        "# Nome della cartella e URL del repo\n",
        "repo_name = \"Big_data_project\"\n",
        "repo_url = \"https://github.com/sundaynot/Big_data_project.git\"\n",
        "\n",
        "# 🔁 Clona il repo solo se non esiste già\n",
        "if not os.path.exists(repo_name):\n",
        "    print(f\"📥 Clonazione del repository '{repo_name}'...\")\n",
        "    !git clone {repo_url}\n",
        "else:\n",
        "    print(f\"✅ Repository '{repo_name}' già presente.\")"
      ],
      "metadata": {
        "id": "pdrIs8pQA15P",
        "outputId": "234ae1c6-427c-4aad-acc0-ff8e42191581",
        "colab": {
          "base_uri": "https://localhost:8080/"
        }
      },
      "execution_count": 9,
      "outputs": [
        {
          "output_type": "stream",
          "name": "stdout",
          "text": [
            "✅ Repository 'Big_data_project' già presente.\n"
          ]
        }
      ]
    },
    {
      "cell_type": "markdown",
      "source": [
        "Carica il file"
      ],
      "metadata": {
        "id": "udr27uSNLVpV"
      }
    },
    {
      "cell_type": "code",
      "source": [
        "from pyspark.sql.functions import col, lower, regexp_replace, explode, split, concat_ws, monotonically_increasing_id, lag, when\n",
        "from pyspark.sql.window import Window\n",
        "\n",
        "# 1. Carica il file direttamente in un DataFrame\n",
        "# Spark crea un DataFrame con una colonna \"value\" che contiene ogni riga del file.\n",
        "df = spark.read.text(\"/content/Big_data_project/The Lord Of The Ring 1-The Fellowship Of The Ring_djvu.txt\")\n",
        "\n",
        "# 2. Identifica le righe che definiscono un nuovo capitolo\n",
        "# Creiamo una nuova colonna \"chapter_title\" che contiene il titolo solo se la riga è un'intestazione di capitolo.\n",
        "df_with_titles = df.withColumn(\"chapter_title\",\n",
        "    when(\n",
        "        col(\"value\").rlike(r\"^(Prologue|Chapter\\s*\\d+\\s*\\.\\s*.*)\"),  # match \"Prologue\" o \"1. ...\"\n",
        "        col(\"value\")\n",
        "    ).otherwise(None)\n",
        ")"
      ],
      "metadata": {
        "id": "qBC4aGyqA-FV"
      },
      "execution_count": 10,
      "outputs": []
    },
    {
      "cell_type": "markdown",
      "source": [
        "ASSEGNO LO STESSO TITOLO ALLE RIGHE APPARTENENTI ALLO STESSO CAPITOLO"
      ],
      "metadata": {
        "id": "mc-nKushLW7g"
      }
    },
    {
      "cell_type": "code",
      "source": [
        "from pyspark.sql.functions import last\n",
        "\n",
        "# Finestra ordinata per ID (cumulativa, dal primo record a quello corrente)\n",
        "window_spec = Window.orderBy(\"id\").rowsBetween(Window.unboundedPreceding, 0)\n",
        "\n",
        "# Propaga l'ultimo titolo valido (non null) verso il basso\n",
        "df_propagated = df_ordered.withColumn(\n",
        "    \"chapter\",\n",
        "    last(col(\"chapter_title\"), ignorenulls=True).over(window_spec)\n",
        ")\n",
        "\n",
        "print(\"✅ Titoli propagati correttamente:\")\n",
        "#df_propagated.select(\"id\", \"value\", \"chapter_title\", \"chapter\").show(50, truncate=50)\n",
        "\n",
        "\n"
      ],
      "metadata": {
        "id": "lkP7E3s7C3dN",
        "outputId": "3d757cec-3de4-4d8f-c569-66639e4f6465",
        "colab": {
          "base_uri": "https://localhost:8080/"
        }
      },
      "execution_count": 17,
      "outputs": [
        {
          "output_type": "stream",
          "name": "stdout",
          "text": [
            "✅ Titoli propagati correttamente:\n",
            "+---+--------------------------------------------------+-------------+-------+\n",
            "| id|                                             value|chapter_title|chapter|\n",
            "+---+--------------------------------------------------+-------------+-------+\n",
            "|  0|                           \"THE LORD OF THE RINGS\"|         NULL|   NULL|\n",
            "|  1|                                                  |         NULL|   NULL|\n",
            "|  2|                                         Part One |         NULL|   NULL|\n",
            "|  3|                                                  |         NULL|   NULL|\n",
            "|  4|                       THE FELLOWSHIP OF THE RING |         NULL|   NULL|\n",
            "|  5|                                                  |         NULL|   NULL|\n",
            "|  6|                                    J.R.R.ToIkien |         NULL|   NULL|\n",
            "|  7|                                                  |         NULL|   NULL|\n",
            "|  8|                                                  |         NULL|   NULL|\n",
            "|  9|                                         Foreword |         NULL|   NULL|\n",
            "| 10|                                                  |         NULL|   NULL|\n",
            "| 11|This tale grew in the telling, until it became ...|         NULL|   NULL|\n",
            "| 12|War of the Ring and included many glimpses of t...|         NULL|   NULL|\n",
            "| 13|that preceded it. It was begun soon after The H...|         NULL|   NULL|\n",
            "| 14|its publication in 1937; but I did not go on wi...|         NULL|   NULL|\n",
            "| 15|first to complete and set in order the mytholog...|         NULL|   NULL|\n",
            "| 16|Days, which had then been taking shape for some...|         NULL|   NULL|\n",
            "| 17|for my own satisfaction, and I had little hope ...|         NULL|   NULL|\n",
            "| 18|interested in this work, especially since it wa...|         NULL|   NULL|\n",
            "| 19|inspiration and was begun in order to provide t...|         NULL|   NULL|\n",
            "| 20|                    'history' for Elvish tongues. |         NULL|   NULL|\n",
            "| 21|                                                  |         NULL|   NULL|\n",
            "| 22|When those whose advice and opinion I sought co...|         NULL|   NULL|\n",
            "| 23|no hope, I went back to the sequel, encouraged ...|         NULL|   NULL|\n",
            "| 24|more information concerning hobbits and their a...|         NULL|   NULL|\n",
            "| 25|drawn irresistibly towards the older world, and...|         NULL|   NULL|\n",
            "| 26|were, of its end and passing away before its be...|         NULL|   NULL|\n",
            "| 27|told. The process had begun in the writing of T...|         NULL|   NULL|\n",
            "| 28|were already some references to the older matte...|         NULL|   NULL|\n",
            "| 29|High-elves, and the ores, as well as glimpses t...|         NULL|   NULL|\n",
            "| 30|things higher or deeper or darker than its surf...|         NULL|   NULL|\n",
            "| 31|the Necromancer, the Ring. The discovery of the...|         NULL|   NULL|\n",
            "| 32|glimpses and of their relation to the ancient h...|         NULL|   NULL|\n",
            "| 33|  Age and its culmination in the War of the Ring. |         NULL|   NULL|\n",
            "| 34|                                                  |         NULL|   NULL|\n",
            "| 35|Those who had asked for more information about ...|         NULL|   NULL|\n",
            "| 36|it, but they had to wait a long time; for the c...|         NULL|   NULL|\n",
            "| 37|Rings went on at intervals during the years 193...|         NULL|   NULL|\n",
            "| 38|I had many duties that I did not neglect, and m...|         NULL|   NULL|\n",
            "| 39|learner and teacher that often absorbed me. The...|         NULL|   NULL|\n",
            "| 40|increased by the outbreak of war in 1939, by th...|         NULL|   NULL|\n",
            "| 41|had not yet reached the end of Book One. In spi...|         NULL|   NULL|\n",
            "| 42|next five years I found that the story could no...|         NULL|   NULL|\n",
            "| 43|and I plodded on, mostly by night, till I stood...|         NULL|   NULL|\n",
            "| 44|There I halted for a long while. It was almost ...|         NULL|   NULL|\n",
            "| 45|and so came to Lothlurien and the Great River l...|         NULL|   NULL|\n",
            "| 46|                                                  |         NULL|   NULL|\n",
            "| 47|                                                  |         NULL|   NULL|\n",
            "| 48|                                                  |         NULL|   NULL|\n",
            "| 49|                                                  |         NULL|   NULL|\n",
            "+---+--------------------------------------------------+-------------+-------+\n",
            "only showing top 50 rows\n",
            "\n",
            "+---+--------------------------------------------------+----------------------------------+----------------------------------+\n",
            "| id|                                             value|                     chapter_title|                           chapter|\n",
            "+---+--------------------------------------------------+----------------------------------+----------------------------------+\n",
            "|916|                Chapter 1 . A Long-expected Party |Chapter 1 . A Long-expected Party |Chapter 1 . A Long-expected Party |\n",
            "|917|                                                  |                              NULL|Chapter 1 . A Long-expected Party |\n",
            "|918|When Mr. Bilbo Baggins of Bag End announced tha...|                              NULL|Chapter 1 . A Long-expected Party |\n",
            "|919|celebrating his eleventy -first birthday with a...|                              NULL|Chapter 1 . A Long-expected Party |\n",
            "|920|magnificence, there was much talk and excitemen...|                              NULL|Chapter 1 . A Long-expected Party |\n",
            "|921|                                                  |                              NULL|Chapter 1 . A Long-expected Party |\n",
            "|922|Bilbo was very rich and very peculiar, and had ...|                              NULL|Chapter 1 . A Long-expected Party |\n",
            "|923|Shire for sixty years, ever since his remarkabl...|                              NULL|Chapter 1 . A Long-expected Party |\n",
            "|924|unexpected return. The riches he had brought ba...|                              NULL|Chapter 1 . A Long-expected Party |\n",
            "|925|become a local legend, and it was popularly bel...|                              NULL|Chapter 1 . A Long-expected Party |\n",
            "|926|might say, that the Hill at Bag End was full of...|                              NULL|Chapter 1 . A Long-expected Party |\n",
            "|927|treasure. And if that was not enough for fame, ...|                              NULL|Chapter 1 . A Long-expected Party |\n",
            "|928|vigour to marvel at. Time wore on, but it seeme...|                              NULL|Chapter 1 . A Long-expected Party |\n",
            "|929|Mr. Baggins. At ninety he was much the same as ...|                              NULL|Chapter 1 . A Long-expected Party |\n",
            "|930|began to call him we//-preserved, but unchanged...|                              NULL|Chapter 1 . A Long-expected Party |\n",
            "|931|mark. There were some that shook their heads an...|                              NULL|Chapter 1 . A Long-expected Party |\n",
            "|932|of a good thing; it seemed unfair that anyone s...|                              NULL|Chapter 1 . A Long-expected Party |\n",
            "|933|perpetual youth as well as (reputedly) inexhaus...|                              NULL|Chapter 1 . A Long-expected Party |\n",
            "|934|                                                  |                              NULL|Chapter 1 . A Long-expected Party |\n",
            "|935|'It will have to be paid for,' they said. 'It i...|                              NULL|Chapter 1 . A Long-expected Party |\n",
            "|936|                        trouble will come of it!' |                              NULL|Chapter 1 . A Long-expected Party |\n",
            "|937|                                                  |                              NULL|Chapter 1 . A Long-expected Party |\n",
            "|938|But so far trouble had not come; and as Mr. Bag...|                              NULL|Chapter 1 . A Long-expected Party |\n",
            "|939|his money, most people were willing to forgive ...|                              NULL|Chapter 1 . A Long-expected Party |\n",
            "|940|fortune. He remained on visiting terms with his...|                              NULL|Chapter 1 . A Long-expected Party |\n",
            "|941|course, the Sackville-Bagginses), and he had ma...|                              NULL|Chapter 1 . A Long-expected Party |\n",
            "|942|                                              the |                              NULL|Chapter 1 . A Long-expected Party |\n",
            "|943|                                                  |                              NULL|Chapter 1 . A Long-expected Party |\n",
            "|944|hobbits of poor and unimportant families. But h...|                              NULL|Chapter 1 . A Long-expected Party |\n",
            "|945|    some of his younger cousins began to grow up. |                              NULL|Chapter 1 . A Long-expected Party |\n",
            "|946|                                                  |                              NULL|Chapter 1 . A Long-expected Party |\n",
            "|947|The eldest of these, and Bilbo's favourite, was...|                              NULL|Chapter 1 . A Long-expected Party |\n",
            "|948|When Bilbo was ninety-nine, he adopted Frodo as...|                              NULL|Chapter 1 . A Long-expected Party |\n",
            "|949|live at Bag End; and the hopes of the Sackville...|                              NULL|Chapter 1 . A Long-expected Party |\n",
            "|950|dashed. Bilbo and Frodo happened to have the sa...|                              NULL|Chapter 1 . A Long-expected Party |\n",
            "|951|                                            22nd. |                              NULL|Chapter 1 . A Long-expected Party |\n",
            "|952|                                                  |                              NULL|Chapter 1 . A Long-expected Party |\n",
            "|953|'You had better come and live here, Frodo my la...|                              NULL|Chapter 1 . A Long-expected Party |\n",
            "|954|then we can celebrate our birthday-parties comf...|                              NULL|Chapter 1 . A Long-expected Party |\n",
            "|955|                                                  |                              NULL|Chapter 1 . A Long-expected Party |\n",
            "|956|                                                  |                              NULL|Chapter 1 . A Long-expected Party |\n",
            "|957|                                                  |                              NULL|Chapter 1 . A Long-expected Party |\n",
            "|958|                                                  |                              NULL|Chapter 1 . A Long-expected Party |\n",
            "|959|time Frodo was still in his tweens, as the hobb...|                              NULL|Chapter 1 . A Long-expected Party |\n",
            "|960|twenties between childhood and coming of age at...|                              NULL|Chapter 1 . A Long-expected Party |\n",
            "|961|                                                  |                              NULL|Chapter 1 . A Long-expected Party |\n",
            "|962|Twelve more years passed. Each year the Baggins...|                              NULL|Chapter 1 . A Long-expected Party |\n",
            "|963|combined birthday-parties at Bag End; but now i...|                              NULL|Chapter 1 . A Long-expected Party |\n",
            "|964|something quite exceptional was being planned f...|                              NULL|Chapter 1 . A Long-expected Party |\n",
            "|965|going to be eleventy-one, 111, a rather curious...|                              NULL|Chapter 1 . A Long-expected Party |\n",
            "+---+--------------------------------------------------+----------------------------------+----------------------------------+\n",
            "only showing top 50 rows\n",
            "\n"
          ]
        }
      ]
    },
    {
      "cell_type": "markdown",
      "source": [
        "RAGGRUPPA MANTENENDO L'ORDINE"
      ],
      "metadata": {
        "id": "6KF8jSjaLqQQ"
      }
    },
    {
      "cell_type": "code",
      "source": [
        "\n",
        "from pyspark.sql.functions import col, collect_list, concat_ws, lower, regexp_replace, sort_array, struct\n",
        "# Filtra solo le righe non di titolo\n",
        "df_text = df_propagated.filter(col(\"chapter_title\").isNull())\n",
        "\n",
        "# Raggruppa e conserva l’ordine con struct(id, value)\n",
        "chapter_df = (\n",
        "    df_text.groupBy(\"chapter\")\n",
        "    .agg(\n",
        "        sort_array(collect_list(struct(col(\"id\"), col(\"value\")))).alias(\"lines\")\n",
        "    )\n",
        ")\n",
        "chapter_df.show()\n",
        "\n",
        "# Ricostruisci il testo ordinato\n",
        "chapter_df = chapter_df.withColumn(\n",
        "    \"text\",\n",
        "    concat_ws(\" \", col(\"lines.value\"))\n",
        ")\n",
        "chapter_df.show()\n",
        "# Pulisci il testo finale (minuscolo, senza punteggiatura)\n",
        "cleaned_df = chapter_df.withColumn(\n",
        "    \"text\",\n",
        "    lower(regexp_replace(col(\"text\"), r\"[^a-zA-Z\\s]\", \"\"))\n",
        ")\n",
        "\n",
        "# 5️⃣ Mostra il risultato\n",
        "print(\"✅ Testo raggruppato e pulito per capitolo:\")\n",
        "cleaned_df.select(\"chapter\", \"text\").show(truncate=80)\n"
      ],
      "metadata": {
        "id": "aS8Q7lSGFkTj",
        "outputId": "1299f795-d6ee-46fc-e97c-8976af20f181",
        "colab": {
          "base_uri": "https://localhost:8080/"
        }
      },
      "execution_count": 21,
      "outputs": [
        {
          "output_type": "stream",
          "name": "stdout",
          "text": [
            "+--------------------+--------------------+\n",
            "|             chapter|               lines|\n",
            "+--------------------+--------------------+\n",
            "|                NULL|[{0, \"THE LORD OF...|\n",
            "|Chapter 1 . A Lon...|[{917, }, {918, W...|\n",
            "|Chapter 2 . The S...|[{2066, }, {2067,...|\n",
            "|Chapter 3 . Three...|[{3284, }, {3285,...|\n",
            "|Chapter 4 . A Sho...|[{4445, }, {4446,...|\n",
            "|Chapter 5 . A Con...|[{5119, }, {5120,...|\n",
            "|Chapter 6. The Ol...|[{5727, }, {5728,...|\n",
            "|Chapter 7 . In th...|[{6448, }, {6449,...|\n",
            "|Chapter 8 . Fog o...|[{7053, }, {7054,...|\n",
            "|Chapter 9 . At th...|[{7795, }, {7796,...|\n",
            "|Chapter 10. Strider |[{8543, }, {8544,...|\n",
            "|Chapter 11. A Kni...|[{9233, }, {9234,...|\n",
            "|Chapter 12 . Flig...|[{10343, }, {1034...|\n",
            "|Chapter 1 . Many ...|[{11334, }, {1133...|\n",
            "|Chapter 2 . The C...|[{12425, }, {1242...|\n",
            "|Chapter 3 . The R...|[{14180, }, {1418...|\n",
            "|Chapter 4 . A Jou...|[{15413, }, {1541...|\n",
            "|Chapter 5 . The B...|[{16730, }, {1673...|\n",
            "|Chapter 6 . Lothl...|[{17349, }, {1735...|\n",
            "|Chapter 7 . The M...|[{18441, }, {1844...|\n",
            "+--------------------+--------------------+\n",
            "only showing top 20 rows\n",
            "\n",
            "+--------------------+--------------------+--------------------+\n",
            "|             chapter|               lines|                text|\n",
            "+--------------------+--------------------+--------------------+\n",
            "|                NULL|[{0, \"THE LORD OF...|\"THE LORD OF THE ...|\n",
            "|Chapter 1 . A Lon...|[{917, }, {918, W...| When Mr. Bilbo B...|\n",
            "|Chapter 2 . The S...|[{2066, }, {2067,...|   The talk did n...|\n",
            "|Chapter 3 . Three...|[{3284, }, {3285,...|   'You ought to ...|\n",
            "|Chapter 4 . A Sho...|[{4445, }, {4446,...|   In the morning...|\n",
            "|Chapter 5 . A Con...|[{5119, }, {5120,...|   'Now we had be...|\n",
            "|Chapter 6. The Ol...|[{5727, }, {5728,...|   Frodo woke sud...|\n",
            "|Chapter 7 . In th...|[{6448, }, {6449,...|   The four hobbi...|\n",
            "|Chapter 8 . Fog o...|[{7053, }, {7054,...|   That night the...|\n",
            "|Chapter 9 . At th...|[{7795, }, {7796,...|   The Prancing P...|\n",
            "|Chapter 10. Strider |[{8543, }, {8544,...|   Frodo, Pippin,...|\n",
            "|Chapter 11. A Kni...|[{9233, }, {9234,...|   As they prepar...|\n",
            "|Chapter 12 . Flig...|[{10343, }, {1034...|   When Frodo cam...|\n",
            "|Chapter 1 . Many ...|[{11334, }, {1133...| Frodo woke and f...|\n",
            "|Chapter 2 . The C...|[{12425, }, {1242...|   Next day Frodo...|\n",
            "|Chapter 3 . The R...|[{14180, }, {1418...|   Later that day...|\n",
            "|Chapter 4 . A Jou...|[{15413, }, {1541...|   It was evening...|\n",
            "|Chapter 5 . The B...|[{16730, }, {1673...|   The Company of...|\n",
            "|Chapter 6 . Lothl...|[{17349, }, {1735...|   'Alas! I Fear ...|\n",
            "|Chapter 7 . The M...|[{18441, }, {1844...|   The sun was si...|\n",
            "+--------------------+--------------------+--------------------+\n",
            "only showing top 20 rows\n",
            "\n",
            "✅ Testo raggruppato e pulito per capitolo:\n",
            "+-----------------------------------------+--------------------------------------------------------------------------------+\n",
            "|                                  chapter|                                                                            text|\n",
            "+-----------------------------------------+--------------------------------------------------------------------------------+\n",
            "|                                     NULL|the lord of the rings  part one   the fellowship of the ring   jrrtoikien    ...|\n",
            "|       Chapter 1 . A Long-expected Party | when mr bilbo baggins of bag end announced that he would shortly be  celebra...|\n",
            "|      Chapter 2 . The Shadow of the Past |   the talk did not die down in nine or even ninety nine days the second  dis...|\n",
            "|            Chapter 3 . Three is Company |   you ought to go quietly and you ought to go soon said gandalf two  or thre...|\n",
            "|    Chapter 4 . A Short Cut to Mushrooms |   in the morning frodo woke refreshed he was lying in a bower made by a  liv...|\n",
            "|       Chapter 5 . A Conspiracy Unmasked |   now we had better get home ourselves said merry theres something  funny ab...|\n",
            "|               Chapter 6. The Old Forest |   frodo woke suddenly it was still dark in the room merry was standing  ther...|\n",
            "|Chapter 7 . In the House of Tom Bombadil |   the four hobbits stepped over the wide stone threshold and stood  still bl...|\n",
            "|     Chapter 8 . Fog on the Barrow-Downs |   that night they heard no noises but either in his dreams or out of  them h...|\n",
            "|              Chapter 9 . At the Sign of |   the prancing pony   bree was the chief village of the breeland a small inh...|\n",
            "|                     Chapter 10. Strider |   frodo pippin and sam made their way back to the parlour there was no  ligh...|\n",
            "|         Chapter 11. A Knife in the Dark |   as they prepared for sleep in the inn at bree darkness lay on  buckland a ...|\n",
            "|         Chapter 12 . Flight to the Ford |   when frodo came to himself he was still clutching the ring desperately   h...|\n",
            "|               Chapter 1 . Many Meetings | frodo woke and found himself lying in bed at first he thought that he  had s...|\n",
            "|       Chapter 2 . The Council of Elrond |   next day frodo woke early feeling refreshed and well he walked along  the ...|\n",
            "|         Chapter 3 . The Ring Goes South |   later that day the hobbits held a meeting of their own in bilbos room  mer...|\n",
            "|       Chapter 4 . A Journey in the Dark |   it was evening and the grey light was again waning fast when they  halted ...|\n",
            "|    Chapter 5 . The Bridge of Khazad-dym |   the company of the ring stood silent beside the tomb of balin frodo  thoug...|\n",
            "|                  Chapter 6 . Lothlurien |   alas i fear we cannot stay here longer said aragorn he looked  towards the...|\n",
            "|     Chapter 7 . The Mirror of Galadriel |   the sun was sinking behind the mountains and the shadows were  deepening i...|\n",
            "+-----------------------------------------+--------------------------------------------------------------------------------+\n",
            "only showing top 20 rows\n",
            "\n"
          ]
        }
      ]
    },
    {
      "cell_type": "markdown",
      "source": [
        "TOKENIZZO"
      ],
      "metadata": {
        "id": "K0Ua4M1_LsAM"
      }
    },
    {
      "cell_type": "code",
      "source": [
        "from pyspark.ml.feature import Tokenizer\n",
        "\n",
        "# Dividi il testo in parole\n",
        "tokenizer = Tokenizer(inputCol=\"text\", outputCol=\"words_raw\")\n",
        "tokenized_df = tokenizer.transform(cleaned_df)\n",
        "\n",
        "# Anteprima\n",
        "tokenized_df.select(\"chapter\", \"words_raw\").show(truncate=80)\n"
      ],
      "metadata": {
        "id": "xc6yM3pYKDpd",
        "outputId": "001955d7-512d-4828-baf8-8bc078503d34",
        "colab": {
          "base_uri": "https://localhost:8080/"
        }
      },
      "execution_count": 27,
      "outputs": [
        {
          "output_type": "stream",
          "name": "stdout",
          "text": [
            "+-----------------------------------------+--------------------------------------------------------------------------------+\n",
            "|                                  chapter|                                                                       words_raw|\n",
            "+-----------------------------------------+--------------------------------------------------------------------------------+\n",
            "|                                     NULL|[the, lord, of, the, rings, , part, one, , , the, fellowship, of, the, ring, ...|\n",
            "|       Chapter 1 . A Long-expected Party |[, when, mr, bilbo, baggins, of, bag, end, announced, that, he, would, shortl...|\n",
            "|      Chapter 2 . The Shadow of the Past |[, , , the, talk, did, not, die, down, in, nine, or, even, ninety, nine, days...|\n",
            "|            Chapter 3 . Three is Company |[, , , you, ought, to, go, quietly, and, you, ought, to, go, soon, said, gand...|\n",
            "|    Chapter 4 . A Short Cut to Mushrooms |[, , , in, the, morning, frodo, woke, refreshed, he, was, lying, in, a, bower...|\n",
            "|       Chapter 5 . A Conspiracy Unmasked |[, , , now, we, had, better, get, home, ourselves, said, merry, theres, somet...|\n",
            "|               Chapter 6. The Old Forest |[, , , frodo, woke, suddenly, it, was, still, dark, in, the, room, merry, was...|\n",
            "|Chapter 7 . In the House of Tom Bombadil |[, , , the, four, hobbits, stepped, over, the, wide, stone, threshold, and, s...|\n",
            "|     Chapter 8 . Fog on the Barrow-Downs |[, , , that, night, they, heard, no, noises, but, either, in, his, dreams, or...|\n",
            "|              Chapter 9 . At the Sign of |[, , , the, prancing, pony, , , bree, was, the, chief, village, of, the, bree...|\n",
            "|                     Chapter 10. Strider |[, , , frodo, pippin, and, sam, made, their, way, back, to, the, parlour, the...|\n",
            "|         Chapter 11. A Knife in the Dark |[, , , as, they, prepared, for, sleep, in, the, inn, at, bree, darkness, lay,...|\n",
            "|         Chapter 12 . Flight to the Ford |[, , , when, frodo, came, to, himself, he, was, still, clutching, the, ring, ...|\n",
            "|               Chapter 1 . Many Meetings |[, frodo, woke, and, found, himself, lying, in, bed, at, first, he, thought, ...|\n",
            "|       Chapter 2 . The Council of Elrond |[, , , next, day, frodo, woke, early, feeling, refreshed, and, well, he, walk...|\n",
            "|         Chapter 3 . The Ring Goes South |[, , , later, that, day, the, hobbits, held, a, meeting, of, their, own, in, ...|\n",
            "|       Chapter 4 . A Journey in the Dark |[, , , it, was, evening, and, the, grey, light, was, again, waning, fast, whe...|\n",
            "|    Chapter 5 . The Bridge of Khazad-dym |[, , , the, company, of, the, ring, stood, silent, beside, the, tomb, of, bal...|\n",
            "|                  Chapter 6 . Lothlurien |[, , , alas, i, fear, we, cannot, stay, here, longer, said, aragorn, he, look...|\n",
            "|     Chapter 7 . The Mirror of Galadriel |[, , , the, sun, was, sinking, behind, the, mountains, and, the, shadows, wer...|\n",
            "+-----------------------------------------+--------------------------------------------------------------------------------+\n",
            "only showing top 20 rows\n",
            "\n"
          ]
        }
      ]
    },
    {
      "cell_type": "markdown",
      "source": [
        "RIMUOVO LE STOP WORDS"
      ],
      "metadata": {
        "id": "lKwsJtbJL4S0"
      }
    },
    {
      "cell_type": "code",
      "source": [
        "from pyspark.ml.feature import StopWordsRemover\n",
        "\n",
        "# Rimuove parole comuni come \"the\", \"and\", \"of\"\n",
        "remover = StopWordsRemover(inputCol=\"words_raw\", outputCol=\"words\")\n",
        "clean_words_df = remover.transform(tokenized_df)\n",
        "\n",
        "# Anteprima\n",
        "clean_words_df.select(\"chapter\", \"words\").show(truncate=80)\n"
      ],
      "metadata": {
        "id": "7lL_7hLIKKWA",
        "outputId": "50161b63-b7c2-4017-fd00-683e9a472b72",
        "colab": {
          "base_uri": "https://localhost:8080/"
        }
      },
      "execution_count": 29,
      "outputs": [
        {
          "output_type": "stream",
          "name": "stdout",
          "text": [
            "+-----------------------------------------+--------------------------------------------------------------------------------+\n",
            "|                                  chapter|                                                                           words|\n",
            "+-----------------------------------------+--------------------------------------------------------------------------------+\n",
            "|                                     NULL|[lord, rings, , part, one, , , fellowship, ring, , , jrrtoikien, , , , forewo...|\n",
            "|       Chapter 1 . A Long-expected Party |[, mr, bilbo, baggins, bag, end, announced, shortly, , celebrating, eleventy,...|\n",
            "|      Chapter 2 . The Shadow of the Past |[, , , talk, die, nine, even, ninety, nine, days, second, , disappearance, mr...|\n",
            "|            Chapter 3 . Three is Company |[, , , go, quietly, go, soon, said, gandalf, two, , three, weeks, passed, sti...|\n",
            "|    Chapter 4 . A Short Cut to Mushrooms |[, , , morning, frodo, woke, refreshed, lying, bower, made, , living, tree, b...|\n",
            "|       Chapter 5 . A Conspiracy Unmasked |[, , , better, get, home, said, merry, theres, something, , funny, see, must,...|\n",
            "|               Chapter 6. The Old Forest |[, , , frodo, woke, suddenly, still, dark, room, merry, standing, , candle, o...|\n",
            "|Chapter 7 . In the House of Tom Bombadil |[, , , four, hobbits, stepped, wide, stone, threshold, stood, , still, blinki...|\n",
            "|     Chapter 8 . Fog on the Barrow-Downs |[, , , night, heard, noises, either, dreams, , tell, frodo, heard, sweet, sin...|\n",
            "|              Chapter 9 . At the Sign of |[, , , prancing, pony, , , bree, chief, village, breeland, small, inhabited, ...|\n",
            "|                     Chapter 10. Strider |[, , , frodo, pippin, sam, made, way, back, parlour, , light, merry, fire, bu...|\n",
            "|         Chapter 11. A Knife in the Dark |[, , , prepared, sleep, inn, bree, darkness, lay, , buckland, mist, strayed, ...|\n",
            "|         Chapter 12 . Flight to the Ford |[, , , frodo, came, still, clutching, ring, desperately, , , lying, fire, pil...|\n",
            "|               Chapter 1 . Many Meetings |[, frodo, woke, found, lying, bed, first, thought, , slept, late, long, unple...|\n",
            "|       Chapter 2 . The Council of Elrond |[, , , next, day, frodo, woke, early, feeling, refreshed, well, walked, along...|\n",
            "|         Chapter 3 . The Ring Goes South |[, , , later, day, hobbits, held, meeting, bilbos, room, , merry, pippin, ind...|\n",
            "|       Chapter 4 . A Journey in the Dark |[, , , evening, grey, light, waning, fast, , halted, night, weary, mountains,...|\n",
            "|    Chapter 5 . The Bridge of Khazad-dym |[, , , company, ring, stood, silent, beside, tomb, balin, frodo, , thought, b...|\n",
            "|                  Chapter 6 . Lothlurien |[, , , alas, fear, stay, longer, said, aragorn, looked, , towards, mountains,...|\n",
            "|     Chapter 7 . The Mirror of Galadriel |[, , , sun, sinking, behind, mountains, shadows, , deepening, woods, went, pa...|\n",
            "+-----------------------------------------+--------------------------------------------------------------------------------+\n",
            "only showing top 20 rows\n",
            "\n"
          ]
        }
      ]
    },
    {
      "cell_type": "markdown",
      "source": [
        " VEDO QUANTE PAROLE CI SONO IN OGNI CAPITOLO"
      ],
      "metadata": {
        "id": "WZBRGfkXL697"
      }
    },
    {
      "cell_type": "code",
      "source": [
        "from pyspark.sql.functions import size, col\n",
        "\n",
        "# Conta quante parole “pulite” ci sono in ogni capitolo\n",
        "word_count_df = clean_words_df.withColumn(\"word_count\", size(col(\"words\")))\n",
        "\n",
        "# Mostra il risultato\n",
        "word_count_df.select(\"chapter\", \"word_count\").show(truncate=80)\n",
        "\n"
      ],
      "metadata": {
        "id": "Lf--nYeMIsoP",
        "outputId": "089a2dd4-b4ec-43ba-c5b8-e7d6f0e80e84",
        "colab": {
          "base_uri": "https://localhost:8080/"
        }
      },
      "execution_count": 31,
      "outputs": [
        {
          "output_type": "stream",
          "name": "stdout",
          "text": [
            "+-----------------------------------------+----------+\n",
            "|                                  chapter|word_count|\n",
            "+-----------------------------------------+----------+\n",
            "|                                     NULL|      5188|\n",
            "|       Chapter 1 . A Long-expected Party |      5913|\n",
            "|      Chapter 2 . The Shadow of the Past |      6265|\n",
            "|            Chapter 3 . Three is Company |      5765|\n",
            "|    Chapter 4 . A Short Cut to Mushrooms |      3471|\n",
            "|       Chapter 5 . A Conspiracy Unmasked |      3038|\n",
            "|               Chapter 6. The Old Forest |      3882|\n",
            "|Chapter 7 . In the House of Tom Bombadil |      3316|\n",
            "|     Chapter 8 . Fog on the Barrow-Downs |      3928|\n",
            "|              Chapter 9 . At the Sign of |      3679|\n",
            "|                     Chapter 10. Strider |      3337|\n",
            "|         Chapter 11. A Knife in the Dark |      5611|\n",
            "|         Chapter 12 . Flight to the Ford |      5165|\n",
            "|               Chapter 1 . Many Meetings |      5311|\n",
            "|       Chapter 2 . The Council of Elrond |      9019|\n",
            "|         Chapter 3 . The Ring Goes South |      6260|\n",
            "|       Chapter 4 . A Journey in the Dark |      6852|\n",
            "|    Chapter 5 . The Bridge of Khazad-dym |      3325|\n",
            "|                  Chapter 6 . Lothlurien |      5644|\n",
            "|     Chapter 7 . The Mirror of Galadriel |      3975|\n",
            "+-----------------------------------------+----------+\n",
            "only showing top 20 rows\n",
            "\n"
          ]
        }
      ]
    },
    {
      "cell_type": "markdown",
      "source": [
        "LE 10 PIUù RICORRENTI"
      ],
      "metadata": {
        "id": "bvsMRm7rMATa"
      }
    },
    {
      "cell_type": "code",
      "source": [
        "from pyspark.sql.functions import explode, row_number\n",
        "from pyspark.sql.window import Window\n",
        "\n",
        "# 2a. Esplode la lista di parole in righe singole\n",
        "words_exploded_df = clean_words_df.withColumn(\"word\", explode(col(\"words\")))\n",
        "\n",
        "# 2b. Conta quante volte appare ogni parola per capitolo\n",
        "word_freq_df = words_exploded_df.groupBy(\"chapter\", \"word\").count()\n",
        "\n",
        "# 2c. Ordina e prendi le 10 parole più frequenti per capitolo\n",
        "window_spec = Window.partitionBy(\"chapter\").orderBy(col(\"count\").desc())\n",
        "top_words_df = word_freq_df.withColumn(\"rank\", row_number().over(window_spec)) \\\n",
        "                           .filter(col(\"rank\") <= 10)\n",
        "\n",
        "# Mostra il risultato\n",
        "top_words_df.select(\"chapter\", \"word\", \"count\").show(50, truncate=50)\n",
        "\n"
      ],
      "metadata": {
        "id": "x6QocKuNJLBc",
        "outputId": "da424c48-c677-4509-a450-e173d800577b",
        "colab": {
          "base_uri": "https://localhost:8080/"
        }
      },
      "execution_count": 32,
      "outputs": [
        {
          "output_type": "stream",
          "name": "stdout",
          "text": [
            "+-------------------------------------------+---------+-----+\n",
            "|                                    chapter|     word|count|\n",
            "+-------------------------------------------+---------+-----+\n",
            "|                                       NULL|         |  949|\n",
            "|                                       NULL|  hobbits|   53|\n",
            "|                                       NULL|     many|   43|\n",
            "|                                       NULL|    shire|   39|\n",
            "|                                       NULL|     long|   37|\n",
            "|                                       NULL|    still|   30|\n",
            "|                                       NULL|     book|   28|\n",
            "|                                       NULL|     ring|   27|\n",
            "|                                       NULL|     time|   27|\n",
            "|                                       NULL|    bilbo|   27|\n",
            "|         Chapter 1 . A Long-expected Party |         | 1192|\n",
            "|         Chapter 1 . A Long-expected Party |    bilbo|   81|\n",
            "|         Chapter 1 . A Long-expected Party |     said|   74|\n",
            "|         Chapter 1 . A Long-expected Party |    frodo|   57|\n",
            "|         Chapter 1 . A Long-expected Party |      old|   44|\n",
            "|         Chapter 1 . A Long-expected Party |  gandalf|   41|\n",
            "|         Chapter 1 . A Long-expected Party |      one|   32|\n",
            "|         Chapter 1 . A Long-expected Party |      end|   28|\n",
            "|         Chapter 1 . A Long-expected Party |      say|   28|\n",
            "|         Chapter 1 . A Long-expected Party |  hobbits|   26|\n",
            "|                 Chapter 1 . Many Meetings |         | 1090|\n",
            "|                 Chapter 1 . Many Meetings |    frodo|   92|\n",
            "|                 Chapter 1 . Many Meetings |     said|   87|\n",
            "|                 Chapter 1 . Many Meetings |  gandalf|   36|\n",
            "|                 Chapter 1 . Many Meetings |    bilbo|   34|\n",
            "|                 Chapter 1 . Many Meetings |     like|   32|\n",
            "|                 Chapter 1 . Many Meetings |   elrond|   26|\n",
            "|                 Chapter 1 . Many Meetings |     come|   23|\n",
            "|                 Chapter 1 . Many Meetings |      see|   22|\n",
            "|                 Chapter 1 . Many Meetings |     know|   21|\n",
            "|                       Chapter 10. Strider |         |  709|\n",
            "|                       Chapter 10. Strider |     said|   80|\n",
            "|                       Chapter 10. Strider |  strider|   53|\n",
            "|                       Chapter 10. Strider |    frodo|   48|\n",
            "|                       Chapter 10. Strider |     know|   29|\n",
            "|                       Chapter 10. Strider |       mr|   26|\n",
            "|                       Chapter 10. Strider |     well|   19|\n",
            "|                       Chapter 10. Strider |butterbur|   19|\n",
            "|                       Chapter 10. Strider |    shall|   18|\n",
            "|                       Chapter 10. Strider |      one|   18|\n",
            "|Chapter 10. The Breaking of the Fellowship |         |  779|\n",
            "|Chapter 10. The Breaking of the Fellowship |    frodo|   68|\n",
            "|Chapter 10. The Breaking of the Fellowship |     said|   52|\n",
            "|Chapter 10. The Breaking of the Fellowship |      sam|   40|\n",
            "|Chapter 10. The Breaking of the Fellowship |  boromir|   32|\n",
            "|Chapter 10. The Breaking of the Fellowship |       go|   31|\n",
            "|Chapter 10. The Breaking of the Fellowship |  aragorn|   24|\n",
            "|Chapter 10. The Breaking of the Fellowship |     upon|   24|\n",
            "|Chapter 10. The Breaking of the Fellowship |     come|   23|\n",
            "|Chapter 10. The Breaking of the Fellowship |     ring|   23|\n",
            "+-------------------------------------------+---------+-----+\n",
            "only showing top 50 rows\n",
            "\n"
          ]
        }
      ]
    },
    {
      "cell_type": "code",
      "source": [
        "from pyspark.ml.feature import HashingTF, IDF\n",
        "from pyspark.ml import Pipeline\n",
        "\n",
        "# 1️⃣ Calcolo del Term Frequency (TF)\n",
        "hashingTF = HashingTF(inputCol=\"words\", outputCol=\"rawFeatures\", numFeatures=10000)\n",
        "\n",
        "# 2️⃣ Calcolo dell'Inverse Document Frequency (IDF)\n",
        "idf = IDF(inputCol=\"rawFeatures\", outputCol=\"features\")\n",
        "\n",
        "# 3️⃣ Creazione della pipeline\n",
        "pipeline = Pipeline(stages=[hashingTF, idf])\n",
        "\n",
        "# 4️⃣ Addestramento del modello TF-IDF\n",
        "tfidf_model = pipeline.fit(clean_words_df)\n",
        "\n",
        "# 5️⃣ Trasformazione dei dati\n",
        "tfidf_df = tfidf_model.transform(clean_words_df)\n",
        "\n",
        "print(\"📊 Calcolo TF-IDF completato. Ogni capitolo è ora un vettore di 'features'.\")\n",
        "tfidf_df.select(\"chapter\", \"features\").show(truncate=50)\n"
      ],
      "metadata": {
        "id": "PZhjtp4VIHrs",
        "outputId": "b94c0322-6a45-4140-8701-5ff965759154",
        "colab": {
          "base_uri": "https://localhost:8080/"
        }
      },
      "execution_count": 33,
      "outputs": [
        {
          "output_type": "stream",
          "name": "stdout",
          "text": [
            "📊 Calcolo TF-IDF completato. Ogni capitolo è ora un vettore di 'features'.\n",
            "+-----------------------------------------+--------------------------------------------------+\n",
            "|                                  chapter|                                          features|\n",
            "+-----------------------------------------+--------------------------------------------------+\n",
            "|                                     NULL|(10000,[7,15,17,23,24,29,30,32,42,50,52,55,57,6...|\n",
            "|       Chapter 1 . A Long-expected Party |(10000,[7,15,20,23,24,26,30,32,37,50,52,55,58,6...|\n",
            "|      Chapter 2 . The Shadow of the Past |(10000,[0,7,15,17,23,24,27,30,32,33,44,52,55,60...|\n",
            "|            Chapter 3 . Three is Company |(10000,[6,7,15,18,20,23,24,26,37,50,52,53,55,63...|\n",
            "|    Chapter 4 . A Short Cut to Mushrooms |(10000,[15,17,20,24,41,47,52,55,80,88,94,122,15...|\n",
            "|       Chapter 5 . A Conspiracy Unmasked |(10000,[7,15,24,30,48,50,52,55,60,63,78,80,88,1...|\n",
            "|               Chapter 6. The Old Forest |(10000,[7,20,23,24,31,41,42,52,55,57,77,88,92,9...|\n",
            "|Chapter 7 . In the House of Tom Bombadil |(10000,[3,7,15,17,20,23,24,37,41,52,55,57,88,90...|\n",
            "|     Chapter 8 . Fog on the Barrow-Downs |(10000,[1,4,7,15,20,23,24,50,52,53,55,83,87,88,...|\n",
            "|              Chapter 9 . At the Sign of |(10000,[6,7,15,20,21,23,33,37,52,55,63,70,78,80...|\n",
            "|                     Chapter 10. Strider |(10000,[7,15,33,38,41,43,47,52,55,70,87,88,94,9...|\n",
            "|         Chapter 11. A Knife in the Dark |(10000,[1,7,15,17,20,23,24,27,37,41,48,50,52,55...|\n",
            "|         Chapter 12 . Flight to the Ford |(10000,[7,15,23,24,26,42,47,50,52,53,55,67,84,8...|\n",
            "|               Chapter 1 . Many Meetings |(10000,[7,15,17,20,23,37,47,48,52,55,63,70,73,8...|\n",
            "|       Chapter 2 . The Council of Elrond |(10000,[7,15,20,23,24,27,32,37,41,47,50,51,52,5...|\n",
            "|         Chapter 3 . The Ring Goes South |(10000,[7,15,20,21,23,24,30,41,50,52,53,55,60,6...|\n",
            "|       Chapter 4 . A Journey in the Dark |(10000,[6,7,15,17,23,24,34,41,42,52,55,60,87,88...|\n",
            "|    Chapter 5 . The Bridge of Khazad-dym |(10000,[7,23,24,27,37,41,47,48,52,55,57,63,70,8...|\n",
            "|                  Chapter 6 . Lothlurien |(10000,[7,15,17,21,23,24,27,37,41,53,55,57,73,8...|\n",
            "|     Chapter 7 . The Mirror of Galadriel |(10000,[7,8,15,17,20,23,24,34,50,52,55,59,68,73...|\n",
            "+-----------------------------------------+--------------------------------------------------+\n",
            "only showing top 20 rows\n",
            "\n"
          ]
        }
      ]
    }
  ]
}