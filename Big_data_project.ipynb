{
  "nbformat": 4,
  "nbformat_minor": 0,
  "metadata": {
    "colab": {
      "provenance": [],
      "authorship_tag": "ABX9TyOJCCtpbg7MmUJL/z+kHqDT",
      "include_colab_link": true
    },
    "kernelspec": {
      "name": "python3",
      "display_name": "Python 3"
    },
    "language_info": {
      "name": "python"
    }
  },
  "cells": [
    {
      "cell_type": "markdown",
      "metadata": {
        "id": "view-in-github",
        "colab_type": "text"
      },
      "source": [
        "<a href=\"https://colab.research.google.com/github/Sundaynot/Big_data_project/blob/main/Big_data_project.ipynb\" target=\"_parent\"><img src=\"https://colab.research.google.com/assets/colab-badge.svg\" alt=\"Open In Colab\"/></a>"
      ]
    },
    {
      "cell_type": "markdown",
      "source": [
        "CARICAMENTO spark"
      ],
      "metadata": {
        "id": "9vwBdIxDLGzo"
      }
    },
    {
      "cell_type": "code",
      "source": [
        "!pip install pyspark\n",
        "!pip install -U -q PyDrive2\n",
        "#l'output 'xxx is not a symbolic link' non influirà sull'implementazione o esecuzione\n",
        "#per risolvere 'xxx is not a symbolic link', commenta le righe che iniziano con !mv xxxx\n",
        "#dovresti sostituire xxx.11 con la versione corretta se si verificano altri errori dopo un aggiornamento di Colab\n",
        "#per ottenre la versione corretta, usa !ls /usr/local/lib per verificarla\n",
        "#!mv /usr/local/lib/libtbbmalloc_proxy.so.2 /usr/local/lib/libtbbmalloc_proxy.so.2.backup\n",
        "#!mv /usr/local/lib/libtbbmalloc.so.2 /usr/local/lib/libtbbmalloc.so.2.backup\n",
        "#!mv /usr/local/lib/libtbbbind_2_5.so.3 /usr/local/lib/libtbbbind_2_5.so.3.backup\n",
        "#!mv /usr/local/lib/libtbb.so.12 /usr/local/lib/libtbb.so.12.backup\n",
        "#!mv /usr/local/lib/libtbbbind_2_0.so.3 /usr/local/lib/libtbbbind_2_0.so.3.backup\n",
        "#!mv /usr/local/lib/libtbbbind.so.3 /usr/local/lib/libtbbbind.so.3.backup\n",
        "!ln -s /usr/local/lib/libtbbmalloc_proxy.so.2.11 /usr/local/lib/libtbbmalloc_proxy.so.2\n",
        "!ln -s /usr/local/lib/libtbbmalloc.so.2.11 /usr/local/lib/libtbbmalloc.so.2\n",
        "!ln -s /usr/local/lib/libtbbbind_2_5.so.3.11 /usr/local/lib/libtbbbind_2_5.so.3\n",
        "!ln -s /usr/local/lib/libtbb.so.12.11 /usr/local/lib/libtbb.so.12\n",
        "!ln -s /usr/local/lib/libtbbbind_2_0.so.3.11 /usr/local/lib/libtbbbind_2_0.so.3\n",
        "!ln -s /usr/local/lib/libtbbbind.so.3.11 /usr/local/lib/libtbbbind.so.3\n",
        "# !sudo ldconfig\n",
        "#Se si verifica un errore relativo all'esecuzione sopra indicata, puoi provare a commentare le 12 righe sopra sotto l'installazione di\n",
        "!apt install openjdk-8-jdk-headless -qq\n",
        "import os\n",
        "os.environ[\"JAVA_HOME\"] = \"/usr/lib/jvm/java-8-openjdk-amd64\"\n",
        "#l'output 'xxx is not a symbolic link' non influirà sulla tua implementazione o esecuzione\n",
        "#per risolvere 'xxx is not a symbolic link', puoi commentare le righe che iniziano con !mv xxxx\n",
        "#dovresti sostituire xxx.11 con la versione corretta se si verificano altri errori dopo un aggiornamento di Colab\n",
        "#per ottenre la versione corretta, usa !ls /usr/local/lib per verificarla"
      ],
      "metadata": {
        "colab": {
          "base_uri": "https://localhost:8080/"
        },
        "id": "JxXCjPla_4fP",
        "outputId": "775dc84b-11ba-4b5d-86b6-ccbebe21fe9e"
      },
      "execution_count": 57,
      "outputs": [
        {
          "output_type": "stream",
          "name": "stdout",
          "text": [
            "Requirement already satisfied: pyspark in /usr/local/lib/python3.12/dist-packages (3.5.1)\n",
            "Requirement already satisfied: py4j==0.10.9.7 in /usr/local/lib/python3.12/dist-packages (from pyspark) (0.10.9.7)\n",
            "ln: failed to create symbolic link '/usr/local/lib/libtbbmalloc_proxy.so.2': File exists\n",
            "ln: failed to create symbolic link '/usr/local/lib/libtbbmalloc.so.2': File exists\n",
            "ln: failed to create symbolic link '/usr/local/lib/libtbbbind_2_5.so.3': File exists\n",
            "ln: failed to create symbolic link '/usr/local/lib/libtbb.so.12': File exists\n",
            "ln: failed to create symbolic link '/usr/local/lib/libtbbbind_2_0.so.3': File exists\n",
            "ln: failed to create symbolic link '/usr/local/lib/libtbbbind.so.3': File exists\n",
            "openjdk-8-jdk-headless is already the newest version (8u462-ga~us1-0ubuntu2~22.04.2).\n",
            "0 upgraded, 0 newly installed, 0 to remove and 38 not upgraded.\n"
          ]
        }
      ]
    },
    {
      "cell_type": "markdown",
      "source": [
        "Creazione della SparkSession\n"
      ],
      "metadata": {
        "id": "RVM7uZ4xLKL6"
      }
    },
    {
      "cell_type": "code",
      "execution_count": 58,
      "metadata": {
        "id": "o3m1q-anj8pw",
        "colab": {
          "base_uri": "https://localhost:8080/"
        },
        "outputId": "05c02368-55d2-4983-d947-dea72178ba42"
      },
      "outputs": [
        {
          "output_type": "stream",
          "name": "stdout",
          "text": [
            "✅ Ambiente Spark pronto!\n"
          ]
        }
      ],
      "source": [
        "\n",
        "# 4. Creazione della SparkSession\n",
        "from pyspark.sql import SparkSession\n",
        "spark = SparkSession.builder \\\n",
        "    .master(\"local[*]\") \\\n",
        "    .appName(\"LordOfTheRings_Analysis\") \\\n",
        "    .getOrCreate()\n",
        "\n",
        "print(\"✅ Ambiente Spark pronto!\")\n"
      ]
    },
    {
      "cell_type": "markdown",
      "source": [
        "CLONAZIONE DEL REPOSITORY GIT"
      ],
      "metadata": {
        "id": "VfTArLtLLNuJ"
      }
    },
    {
      "cell_type": "markdown",
      "source": [],
      "metadata": {
        "id": "HBpmKIdaO9e0"
      }
    },
    {
      "cell_type": "code",
      "source": [
        "\n",
        "# ===============================================================\n",
        "# FASE 2: CLONAZIONE DEL REPOSITORY GIT\n",
        "# ===============================================================\n",
        "\n",
        "# Nome della cartella e URL del repo\n",
        "repo_name = \"Big_data_project\"\n",
        "repo_url = \"https://github.com/sundaynot/Big_data_project.git\"\n",
        "\n",
        "# 🔁 Clona il repo solo se non esiste già\n",
        "if not os.path.exists(repo_name):\n",
        "    print(f\"📥 Clonazione del repository '{repo_name}'...\")\n",
        "    !git clone {repo_url}\n",
        "else:\n",
        "    print(f\"✅ Repository '{repo_name}' già presente.\")"
      ],
      "metadata": {
        "colab": {
          "base_uri": "https://localhost:8080/"
        },
        "id": "pdrIs8pQA15P",
        "outputId": "be2140da-81b5-4723-b5d4-34ed20e889ed"
      },
      "execution_count": 59,
      "outputs": [
        {
          "output_type": "stream",
          "name": "stdout",
          "text": [
            "✅ Repository 'Big_data_project' già presente.\n"
          ]
        }
      ]
    },
    {
      "cell_type": "markdown",
      "source": [
        "Carica il file"
      ],
      "metadata": {
        "id": "udr27uSNLVpV"
      }
    },
    {
      "cell_type": "code",
      "source": [
        "from pyspark.sql.functions import col, lower, regexp_replace, explode, split, concat_ws, monotonically_increasing_id, lag, when\n",
        "from pyspark.sql.window import Window\n",
        "\n",
        "# 1. Carica il file direttamente in un DataFrame\n",
        "# Spark crea un DataFrame con una colonna \"value\" che contiene ogni riga del file.\n",
        "df = spark.read.text(\"/content/Big_data_project/The Lord Of The Ring 1-The Fellowship Of The Ring_djvu.txt\")\n",
        "\n",
        "# 2. Identifica le righe che definiscono un nuovo capitolo\n",
        "# Creiamo una nuova colonna \"chapter_title\" che contiene il titolo solo se la riga è un'intestazione di capitolo.\n",
        "df_with_titles = df.withColumn(\"chapter_title\",\n",
        "    when(\n",
        "        col(\"value\").rlike(r\"^(Prologue|Chapter\\s*\\d+\\s*\\.\\s*.*)\"),  # match \"Prologue\" o \"1. ...\"\n",
        "        col(\"value\")\n",
        "    ).otherwise(None)\n",
        ")"
      ],
      "metadata": {
        "id": "qBC4aGyqA-FV"
      },
      "execution_count": 60,
      "outputs": []
    },
    {
      "cell_type": "markdown",
      "source": [
        "ASSEGNO LO STESSO TITOLO ALLE RIGHE APPARTENENTI ALLO STESSO CAPITOLO"
      ],
      "metadata": {
        "id": "mc-nKushLW7g"
      }
    },
    {
      "cell_type": "code",
      "source": [
        "from pyspark.sql.functions import last\n",
        "\n",
        "# Finestra ordinata per ID (cumulativa, dal primo record a quello corrente)\n",
        "window_spec = Window.orderBy(\"id\").rowsBetween(Window.unboundedPreceding, 0)\n",
        "\n",
        "# Propaga l'ultimo titolo valido (non null) verso il basso\n",
        "df_propagated = df_ordered.withColumn(\n",
        "    \"chapter\",\n",
        "    last(col(\"chapter_title\"), ignorenulls=True).over(window_spec)\n",
        ")\n",
        "\n",
        "print(\"✅ Titoli propagati correttamente:\")\n",
        "#df_propagated.select(\"id\", \"value\", \"chapter_title\", \"chapter\").show(50, truncate=50)\n",
        "\n",
        "\n"
      ],
      "metadata": {
        "colab": {
          "base_uri": "https://localhost:8080/"
        },
        "id": "lkP7E3s7C3dN",
        "outputId": "712fd168-3be7-45c9-8a5c-86526ac0bf6e"
      },
      "execution_count": 61,
      "outputs": [
        {
          "output_type": "stream",
          "name": "stdout",
          "text": [
            "✅ Titoli propagati correttamente:\n"
          ]
        }
      ]
    },
    {
      "cell_type": "markdown",
      "source": [
        "RAGGRUPPA MANTENENDO L'ORDINE"
      ],
      "metadata": {
        "id": "6KF8jSjaLqQQ"
      }
    },
    {
      "cell_type": "code",
      "source": [
        "\n",
        "from pyspark.sql.functions import col, collect_list, concat_ws, lower, regexp_replace, sort_array, struct\n",
        "# Filtra solo le righe non di titolo\n",
        "df_text = df_propagated.filter(col(\"chapter_title\").isNull())\n",
        "\n",
        "# Raggruppa e conserva l’ordine con struct(id, value)\n",
        "chapter_df = (\n",
        "    df_text.groupBy(\"chapter\")\n",
        "    .agg(\n",
        "        sort_array(collect_list(struct(col(\"id\"), col(\"value\")))).alias(\"lines\")\n",
        "    )\n",
        ")\n",
        "chapter_df.show()\n",
        "\n",
        "# Ricostruisci il testo ordinato\n",
        "chapter_df = chapter_df.withColumn(\n",
        "    \"text\",\n",
        "    concat_ws(\" \", col(\"lines.value\"))\n",
        ")\n",
        "chapter_df.show()\n",
        "# Pulisci il testo finale (minuscolo, senza punteggiatura)\n",
        "cleaned_df = chapter_df.withColumn(\n",
        "    \"text\",\n",
        "    lower(regexp_replace(col(\"text\"), r\"[^a-zA-Z\\s]\", \"\"))\n",
        ")\n",
        "\n",
        "# 5️⃣ Mostra il risultato\n",
        "print(\"✅ Testo raggruppato e pulito per capitolo:\")\n",
        "cleaned_df.select(\"chapter\", \"text\").show(truncate=80)\n"
      ],
      "metadata": {
        "colab": {
          "base_uri": "https://localhost:8080/"
        },
        "id": "aS8Q7lSGFkTj",
        "outputId": "6610e073-083f-4d66-88ea-095e620b8775"
      },
      "execution_count": 62,
      "outputs": [
        {
          "output_type": "stream",
          "name": "stdout",
          "text": [
            "+--------------------+--------------------+\n",
            "|             chapter|               lines|\n",
            "+--------------------+--------------------+\n",
            "|                NULL|[{0, \"THE LORD OF...|\n",
            "|Chapter 1 . A Lon...|[{917, }, {918, W...|\n",
            "|Chapter 2 . The S...|[{2066, }, {2067,...|\n",
            "|Chapter 3 . Three...|[{3284, }, {3285,...|\n",
            "|Chapter 4 . A Sho...|[{4445, }, {4446,...|\n",
            "|Chapter 5 . A Con...|[{5119, }, {5120,...|\n",
            "|Chapter 6. The Ol...|[{5727, }, {5728,...|\n",
            "|Chapter 7 . In th...|[{6448, }, {6449,...|\n",
            "|Chapter 8 . Fog o...|[{7053, }, {7054,...|\n",
            "|Chapter 9 . At th...|[{7795, }, {7796,...|\n",
            "|Chapter 10. Strider |[{8543, }, {8544,...|\n",
            "|Chapter 11. A Kni...|[{9233, }, {9234,...|\n",
            "|Chapter 12 . Flig...|[{10343, }, {1034...|\n",
            "|Chapter 1 . Many ...|[{11334, }, {1133...|\n",
            "|Chapter 2 . The C...|[{12425, }, {1242...|\n",
            "|Chapter 3 . The R...|[{14180, }, {1418...|\n",
            "|Chapter 4 . A Jou...|[{15413, }, {1541...|\n",
            "|Chapter 5 . The B...|[{16730, }, {1673...|\n",
            "|Chapter 6 . Lothl...|[{17349, }, {1735...|\n",
            "|Chapter 7 . The M...|[{18441, }, {1844...|\n",
            "+--------------------+--------------------+\n",
            "only showing top 20 rows\n",
            "\n",
            "+--------------------+--------------------+--------------------+\n",
            "|             chapter|               lines|                text|\n",
            "+--------------------+--------------------+--------------------+\n",
            "|                NULL|[{0, \"THE LORD OF...|\"THE LORD OF THE ...|\n",
            "|Chapter 1 . A Lon...|[{917, }, {918, W...| When Mr. Bilbo B...|\n",
            "|Chapter 2 . The S...|[{2066, }, {2067,...|   The talk did n...|\n",
            "|Chapter 3 . Three...|[{3284, }, {3285,...|   'You ought to ...|\n",
            "|Chapter 4 . A Sho...|[{4445, }, {4446,...|   In the morning...|\n",
            "|Chapter 5 . A Con...|[{5119, }, {5120,...|   'Now we had be...|\n",
            "|Chapter 6. The Ol...|[{5727, }, {5728,...|   Frodo woke sud...|\n",
            "|Chapter 7 . In th...|[{6448, }, {6449,...|   The four hobbi...|\n",
            "|Chapter 8 . Fog o...|[{7053, }, {7054,...|   That night the...|\n",
            "|Chapter 9 . At th...|[{7795, }, {7796,...|   The Prancing P...|\n",
            "|Chapter 10. Strider |[{8543, }, {8544,...|   Frodo, Pippin,...|\n",
            "|Chapter 11. A Kni...|[{9233, }, {9234,...|   As they prepar...|\n",
            "|Chapter 12 . Flig...|[{10343, }, {1034...|   When Frodo cam...|\n",
            "|Chapter 1 . Many ...|[{11334, }, {1133...| Frodo woke and f...|\n",
            "|Chapter 2 . The C...|[{12425, }, {1242...|   Next day Frodo...|\n",
            "|Chapter 3 . The R...|[{14180, }, {1418...|   Later that day...|\n",
            "|Chapter 4 . A Jou...|[{15413, }, {1541...|   It was evening...|\n",
            "|Chapter 5 . The B...|[{16730, }, {1673...|   The Company of...|\n",
            "|Chapter 6 . Lothl...|[{17349, }, {1735...|   'Alas! I Fear ...|\n",
            "|Chapter 7 . The M...|[{18441, }, {1844...|   The sun was si...|\n",
            "+--------------------+--------------------+--------------------+\n",
            "only showing top 20 rows\n",
            "\n",
            "✅ Testo raggruppato e pulito per capitolo:\n",
            "+-----------------------------------------+--------------------------------------------------------------------------------+\n",
            "|                                  chapter|                                                                            text|\n",
            "+-----------------------------------------+--------------------------------------------------------------------------------+\n",
            "|                                     NULL|the lord of the rings  part one   the fellowship of the ring   jrrtoikien    ...|\n",
            "|       Chapter 1 . A Long-expected Party | when mr bilbo baggins of bag end announced that he would shortly be  celebra...|\n",
            "|      Chapter 2 . The Shadow of the Past |   the talk did not die down in nine or even ninety nine days the second  dis...|\n",
            "|            Chapter 3 . Three is Company |   you ought to go quietly and you ought to go soon said gandalf two  or thre...|\n",
            "|    Chapter 4 . A Short Cut to Mushrooms |   in the morning frodo woke refreshed he was lying in a bower made by a  liv...|\n",
            "|       Chapter 5 . A Conspiracy Unmasked |   now we had better get home ourselves said merry theres something  funny ab...|\n",
            "|               Chapter 6. The Old Forest |   frodo woke suddenly it was still dark in the room merry was standing  ther...|\n",
            "|Chapter 7 . In the House of Tom Bombadil |   the four hobbits stepped over the wide stone threshold and stood  still bl...|\n",
            "|     Chapter 8 . Fog on the Barrow-Downs |   that night they heard no noises but either in his dreams or out of  them h...|\n",
            "|              Chapter 9 . At the Sign of |   the prancing pony   bree was the chief village of the breeland a small inh...|\n",
            "|                     Chapter 10. Strider |   frodo pippin and sam made their way back to the parlour there was no  ligh...|\n",
            "|         Chapter 11. A Knife in the Dark |   as they prepared for sleep in the inn at bree darkness lay on  buckland a ...|\n",
            "|         Chapter 12 . Flight to the Ford |   when frodo came to himself he was still clutching the ring desperately   h...|\n",
            "|               Chapter 1 . Many Meetings | frodo woke and found himself lying in bed at first he thought that he  had s...|\n",
            "|       Chapter 2 . The Council of Elrond |   next day frodo woke early feeling refreshed and well he walked along  the ...|\n",
            "|         Chapter 3 . The Ring Goes South |   later that day the hobbits held a meeting of their own in bilbos room  mer...|\n",
            "|       Chapter 4 . A Journey in the Dark |   it was evening and the grey light was again waning fast when they  halted ...|\n",
            "|    Chapter 5 . The Bridge of Khazad-dym |   the company of the ring stood silent beside the tomb of balin frodo  thoug...|\n",
            "|                  Chapter 6 . Lothlurien |   alas i fear we cannot stay here longer said aragorn he looked  towards the...|\n",
            "|     Chapter 7 . The Mirror of Galadriel |   the sun was sinking behind the mountains and the shadows were  deepening i...|\n",
            "+-----------------------------------------+--------------------------------------------------------------------------------+\n",
            "only showing top 20 rows\n",
            "\n"
          ]
        }
      ]
    },
    {
      "cell_type": "markdown",
      "source": [
        "TOKENIZZO"
      ],
      "metadata": {
        "id": "K0Ua4M1_LsAM"
      }
    },
    {
      "cell_type": "code",
      "source": [
        "from pyspark.ml.feature import Tokenizer\n",
        "\n",
        "# Dividi il testo in parole\n",
        "tokenizer = Tokenizer(inputCol=\"text\", outputCol=\"words_raw\")\n",
        "tokenized_df = tokenizer.transform(cleaned_df)\n",
        "\n",
        "# Anteprima\n",
        "tokenized_df.select(\"chapter\", \"words_raw\").show(truncate=80)\n"
      ],
      "metadata": {
        "colab": {
          "base_uri": "https://localhost:8080/"
        },
        "id": "xc6yM3pYKDpd",
        "outputId": "c002b1b2-c4af-4f34-c6a1-dd0a8cd74eab"
      },
      "execution_count": 63,
      "outputs": [
        {
          "output_type": "stream",
          "name": "stdout",
          "text": [
            "+-----------------------------------------+--------------------------------------------------------------------------------+\n",
            "|                                  chapter|                                                                       words_raw|\n",
            "+-----------------------------------------+--------------------------------------------------------------------------------+\n",
            "|                                     NULL|[the, lord, of, the, rings, , part, one, , , the, fellowship, of, the, ring, ...|\n",
            "|       Chapter 1 . A Long-expected Party |[, when, mr, bilbo, baggins, of, bag, end, announced, that, he, would, shortl...|\n",
            "|      Chapter 2 . The Shadow of the Past |[, , , the, talk, did, not, die, down, in, nine, or, even, ninety, nine, days...|\n",
            "|            Chapter 3 . Three is Company |[, , , you, ought, to, go, quietly, and, you, ought, to, go, soon, said, gand...|\n",
            "|    Chapter 4 . A Short Cut to Mushrooms |[, , , in, the, morning, frodo, woke, refreshed, he, was, lying, in, a, bower...|\n",
            "|       Chapter 5 . A Conspiracy Unmasked |[, , , now, we, had, better, get, home, ourselves, said, merry, theres, somet...|\n",
            "|               Chapter 6. The Old Forest |[, , , frodo, woke, suddenly, it, was, still, dark, in, the, room, merry, was...|\n",
            "|Chapter 7 . In the House of Tom Bombadil |[, , , the, four, hobbits, stepped, over, the, wide, stone, threshold, and, s...|\n",
            "|     Chapter 8 . Fog on the Barrow-Downs |[, , , that, night, they, heard, no, noises, but, either, in, his, dreams, or...|\n",
            "|              Chapter 9 . At the Sign of |[, , , the, prancing, pony, , , bree, was, the, chief, village, of, the, bree...|\n",
            "|                     Chapter 10. Strider |[, , , frodo, pippin, and, sam, made, their, way, back, to, the, parlour, the...|\n",
            "|         Chapter 11. A Knife in the Dark |[, , , as, they, prepared, for, sleep, in, the, inn, at, bree, darkness, lay,...|\n",
            "|         Chapter 12 . Flight to the Ford |[, , , when, frodo, came, to, himself, he, was, still, clutching, the, ring, ...|\n",
            "|               Chapter 1 . Many Meetings |[, frodo, woke, and, found, himself, lying, in, bed, at, first, he, thought, ...|\n",
            "|       Chapter 2 . The Council of Elrond |[, , , next, day, frodo, woke, early, feeling, refreshed, and, well, he, walk...|\n",
            "|         Chapter 3 . The Ring Goes South |[, , , later, that, day, the, hobbits, held, a, meeting, of, their, own, in, ...|\n",
            "|       Chapter 4 . A Journey in the Dark |[, , , it, was, evening, and, the, grey, light, was, again, waning, fast, whe...|\n",
            "|    Chapter 5 . The Bridge of Khazad-dym |[, , , the, company, of, the, ring, stood, silent, beside, the, tomb, of, bal...|\n",
            "|                  Chapter 6 . Lothlurien |[, , , alas, i, fear, we, cannot, stay, here, longer, said, aragorn, he, look...|\n",
            "|     Chapter 7 . The Mirror of Galadriel |[, , , the, sun, was, sinking, behind, the, mountains, and, the, shadows, wer...|\n",
            "+-----------------------------------------+--------------------------------------------------------------------------------+\n",
            "only showing top 20 rows\n",
            "\n"
          ]
        }
      ]
    },
    {
      "cell_type": "markdown",
      "source": [
        "RIMUOVO LE STOP WORDS"
      ],
      "metadata": {
        "id": "lKwsJtbJL4S0"
      }
    },
    {
      "cell_type": "code",
      "source": [
        "from pyspark.ml.feature import StopWordsRemover\n",
        "from pyspark.sql.functions import col, explode, size, expr\n",
        "\n",
        "# Rimuove parole comuni come \"the\", \"and\", \"of\"\n",
        "remover = StopWordsRemover(inputCol=\"words_raw\", outputCol=\"words\")\n",
        "clean_words_df = remover.transform(tokenized_df)\n",
        "\n",
        "clean_words_df = clean_words_df.withColumn(\n",
        "    \"words\",\n",
        "    expr(\"filter(words, x -> x != '')\")\n",
        ")\n",
        "# Anteprima\n",
        "clean_words_df.select(\"chapter\", \"words\").show(truncate=80)\n"
      ],
      "metadata": {
        "colab": {
          "base_uri": "https://localhost:8080/"
        },
        "id": "7lL_7hLIKKWA",
        "outputId": "22a59011-6228-497b-f8af-c95d115d36cf"
      },
      "execution_count": 64,
      "outputs": [
        {
          "output_type": "stream",
          "name": "stdout",
          "text": [
            "+-----------------------------------------+--------------------------------------------------------------------------------+\n",
            "|                                  chapter|                                                                           words|\n",
            "+-----------------------------------------+--------------------------------------------------------------------------------+\n",
            "|                                     NULL|[lord, rings, part, one, fellowship, ring, jrrtoikien, foreword, tale, grew, ...|\n",
            "|       Chapter 1 . A Long-expected Party |[mr, bilbo, baggins, bag, end, announced, shortly, celebrating, eleventy, fir...|\n",
            "|      Chapter 2 . The Shadow of the Past |[talk, die, nine, even, ninety, nine, days, second, disappearance, mr, bilbo,...|\n",
            "|            Chapter 3 . Three is Company |[go, quietly, go, soon, said, gandalf, two, three, weeks, passed, still, frod...|\n",
            "|    Chapter 4 . A Short Cut to Mushrooms |[morning, frodo, woke, refreshed, lying, bower, made, living, tree, branches,...|\n",
            "|       Chapter 5 . A Conspiracy Unmasked |[better, get, home, said, merry, theres, something, funny, see, must, wait, t...|\n",
            "|               Chapter 6. The Old Forest |[frodo, woke, suddenly, still, dark, room, merry, standing, candle, one, hand...|\n",
            "|Chapter 7 . In the House of Tom Bombadil |[four, hobbits, stepped, wide, stone, threshold, stood, still, blinking, long...|\n",
            "|     Chapter 8 . Fog on the Barrow-Downs |[night, heard, noises, either, dreams, tell, frodo, heard, sweet, singing, ru...|\n",
            "|              Chapter 9 . At the Sign of |[prancing, pony, bree, chief, village, breeland, small, inhabited, region, li...|\n",
            "|                     Chapter 10. Strider |[frodo, pippin, sam, made, way, back, parlour, light, merry, fire, burned, lo...|\n",
            "|         Chapter 11. A Knife in the Dark |[prepared, sleep, inn, bree, darkness, lay, buckland, mist, strayed, dells, a...|\n",
            "|         Chapter 12 . Flight to the Ford |[frodo, came, still, clutching, ring, desperately, lying, fire, piled, high, ...|\n",
            "|               Chapter 1 . Many Meetings |[frodo, woke, found, lying, bed, first, thought, slept, late, long, unpleasan...|\n",
            "|       Chapter 2 . The Council of Elrond |[next, day, frodo, woke, early, feeling, refreshed, well, walked, along, terr...|\n",
            "|         Chapter 3 . The Ring Goes South |[later, day, hobbits, held, meeting, bilbos, room, merry, pippin, indignant, ...|\n",
            "|       Chapter 4 . A Journey in the Dark |[evening, grey, light, waning, fast, halted, night, weary, mountains, veiled,...|\n",
            "|    Chapter 5 . The Bridge of Khazad-dym |[company, ring, stood, silent, beside, tomb, balin, frodo, thought, bilbo, lo...|\n",
            "|                  Chapter 6 . Lothlurien |[alas, fear, stay, longer, said, aragorn, looked, towards, mountains, held, s...|\n",
            "|     Chapter 7 . The Mirror of Galadriel |[sun, sinking, behind, mountains, shadows, deepening, woods, went, paths, wen...|\n",
            "+-----------------------------------------+--------------------------------------------------------------------------------+\n",
            "only showing top 20 rows\n",
            "\n"
          ]
        }
      ]
    },
    {
      "cell_type": "markdown",
      "source": [
        " VEDO QUANTE PAROLE CI SONO IN OGNI CAPITOLO"
      ],
      "metadata": {
        "id": "WZBRGfkXL697"
      }
    },
    {
      "cell_type": "code",
      "source": [
        "from pyspark.sql.functions import size, col\n",
        "\n",
        "# Conta quante parole “pulite” ci sono in ogni capitolo\n",
        "word_count_df = clean_words_df.withColumn(\"word_count\", size(col(\"words\")))\n",
        "\n",
        "# Mostra il risultato\n",
        "word_count_df.select(\"chapter\", \"word_count\").show(truncate=80)\n",
        "\n"
      ],
      "metadata": {
        "colab": {
          "base_uri": "https://localhost:8080/"
        },
        "id": "Lf--nYeMIsoP",
        "outputId": "f7d57abb-d197-4c4c-d132-1a85af5fc264"
      },
      "execution_count": 65,
      "outputs": [
        {
          "output_type": "stream",
          "name": "stdout",
          "text": [
            "+-----------------------------------------+----------+\n",
            "|                                  chapter|word_count|\n",
            "+-----------------------------------------+----------+\n",
            "|                                     NULL|      4239|\n",
            "|       Chapter 1 . A Long-expected Party |      4721|\n",
            "|      Chapter 2 . The Shadow of the Past |      5016|\n",
            "|            Chapter 3 . Three is Company |      4592|\n",
            "|    Chapter 4 . A Short Cut to Mushrooms |      2776|\n",
            "|       Chapter 5 . A Conspiracy Unmasked |      2419|\n",
            "|               Chapter 6. The Old Forest |      3159|\n",
            "|Chapter 7 . In the House of Tom Bombadil |      2704|\n",
            "|     Chapter 8 . Fog on the Barrow-Downs |      3187|\n",
            "|              Chapter 9 . At the Sign of |      2926|\n",
            "|                     Chapter 10. Strider |      2628|\n",
            "|         Chapter 11. A Knife in the Dark |      4495|\n",
            "|         Chapter 12 . Flight to the Ford |      4166|\n",
            "|               Chapter 1 . Many Meetings |      4221|\n",
            "|       Chapter 2 . The Council of Elrond |      7200|\n",
            "|         Chapter 3 . The Ring Goes South |      5018|\n",
            "|       Chapter 4 . A Journey in the Dark |      5462|\n",
            "|    Chapter 5 . The Bridge of Khazad-dym |      2651|\n",
            "|                  Chapter 6 . Lothlurien |      4497|\n",
            "|     Chapter 7 . The Mirror of Galadriel |      3199|\n",
            "+-----------------------------------------+----------+\n",
            "only showing top 20 rows\n",
            "\n"
          ]
        }
      ]
    },
    {
      "cell_type": "markdown",
      "source": [
        "LE 10 PIUù RICORRENTI"
      ],
      "metadata": {
        "id": "bvsMRm7rMATa"
      }
    },
    {
      "cell_type": "code",
      "source": [
        "from pyspark.sql.functions import explode, row_number\n",
        "from pyspark.sql.window import Window\n",
        "\n",
        "# 2a. Esplode la lista di parole in righe singole\n",
        "words_exploded_df = clean_words_df.withColumn(\"word\", explode(col(\"words\")))\n",
        "\n",
        "# 2b. Conta quante volte appare ogni parola per capitolo\n",
        "word_freq_df = words_exploded_df.groupBy(\"chapter\", \"word\").count()\n",
        "\n",
        "# 2c. Ordina e prendi le 10 parole più frequenti per capitolo\n",
        "window_spec = Window.partitionBy(\"chapter\").orderBy(col(\"count\").desc())\n",
        "top_words_df = word_freq_df.withColumn(\"rank\", row_number().over(window_spec)) \\\n",
        "                           .filter(col(\"rank\") <= 10)\n",
        "\n",
        "# Mostra il risultato\n",
        "top_words_df.select(\"chapter\", \"word\", \"count\").show(50, truncate=50)\n",
        "\n"
      ],
      "metadata": {
        "colab": {
          "base_uri": "https://localhost:8080/"
        },
        "id": "x6QocKuNJLBc",
        "outputId": "6e1e5832-fd70-4107-edc0-53db571e6c0f"
      },
      "execution_count": 66,
      "outputs": [
        {
          "output_type": "stream",
          "name": "stdout",
          "text": [
            "+-------------------------------------------+---------+-----+\n",
            "|                                    chapter|     word|count|\n",
            "+-------------------------------------------+---------+-----+\n",
            "|                                       NULL|  hobbits|   53|\n",
            "|                                       NULL|     many|   43|\n",
            "|                                       NULL|    shire|   39|\n",
            "|                                       NULL|     long|   37|\n",
            "|                                       NULL|    still|   30|\n",
            "|                                       NULL|     book|   28|\n",
            "|                                       NULL|     ring|   27|\n",
            "|                                       NULL|     time|   27|\n",
            "|                                       NULL|    bilbo|   27|\n",
            "|                                       NULL|     even|   26|\n",
            "|         Chapter 1 . A Long-expected Party |    bilbo|   81|\n",
            "|         Chapter 1 . A Long-expected Party |     said|   74|\n",
            "|         Chapter 1 . A Long-expected Party |    frodo|   57|\n",
            "|         Chapter 1 . A Long-expected Party |      old|   44|\n",
            "|         Chapter 1 . A Long-expected Party |  gandalf|   41|\n",
            "|         Chapter 1 . A Long-expected Party |      one|   32|\n",
            "|         Chapter 1 . A Long-expected Party |      end|   28|\n",
            "|         Chapter 1 . A Long-expected Party |      say|   28|\n",
            "|         Chapter 1 . A Long-expected Party |  hobbits|   26|\n",
            "|         Chapter 1 . A Long-expected Party |      bag|   25|\n",
            "|                 Chapter 1 . Many Meetings |    frodo|   92|\n",
            "|                 Chapter 1 . Many Meetings |     said|   87|\n",
            "|                 Chapter 1 . Many Meetings |  gandalf|   36|\n",
            "|                 Chapter 1 . Many Meetings |    bilbo|   34|\n",
            "|                 Chapter 1 . Many Meetings |     like|   32|\n",
            "|                 Chapter 1 . Many Meetings |   elrond|   26|\n",
            "|                 Chapter 1 . Many Meetings |     come|   23|\n",
            "|                 Chapter 1 . Many Meetings |      see|   22|\n",
            "|                 Chapter 1 . Many Meetings |     know|   21|\n",
            "|                 Chapter 1 . Many Meetings |     many|   21|\n",
            "|                       Chapter 10. Strider |     said|   80|\n",
            "|                       Chapter 10. Strider |  strider|   53|\n",
            "|                       Chapter 10. Strider |    frodo|   48|\n",
            "|                       Chapter 10. Strider |     know|   29|\n",
            "|                       Chapter 10. Strider |       mr|   26|\n",
            "|                       Chapter 10. Strider |     well|   19|\n",
            "|                       Chapter 10. Strider |butterbur|   19|\n",
            "|                       Chapter 10. Strider |    shall|   18|\n",
            "|                       Chapter 10. Strider |      one|   18|\n",
            "|                       Chapter 10. Strider |       go|   17|\n",
            "|Chapter 10. The Breaking of the Fellowship |    frodo|   68|\n",
            "|Chapter 10. The Breaking of the Fellowship |     said|   52|\n",
            "|Chapter 10. The Breaking of the Fellowship |      sam|   40|\n",
            "|Chapter 10. The Breaking of the Fellowship |  boromir|   32|\n",
            "|Chapter 10. The Breaking of the Fellowship |       go|   31|\n",
            "|Chapter 10. The Breaking of the Fellowship |  aragorn|   24|\n",
            "|Chapter 10. The Breaking of the Fellowship |     upon|   24|\n",
            "|Chapter 10. The Breaking of the Fellowship |     come|   23|\n",
            "|Chapter 10. The Breaking of the Fellowship |     ring|   23|\n",
            "|Chapter 10. The Breaking of the Fellowship |       us|   19|\n",
            "+-------------------------------------------+---------+-----+\n",
            "only showing top 50 rows\n",
            "\n"
          ]
        }
      ]
    },
    {
      "cell_type": "code",
      "source": [
        "from pyspark.ml.feature import HashingTF, IDF, CountVectorizer\n",
        "from pyspark.ml import Pipeline\n",
        "\n",
        "\n",
        "# CountVectorizer trasforma la lista di parole in un vettore di conteggio leggibile\n",
        "cv = CountVectorizer(inputCol=\"words\", outputCol=\"rawFeatures\")\n",
        "\n",
        "# IDF per pesare le parole più importanti\n",
        "idf = IDF(inputCol=\"rawFeatures\", outputCol=\"features\")\n",
        "\n",
        "pipeline = Pipeline(stages=[cv, idf])\n",
        "tfidf_model = pipeline.fit(clean_words_df)\n",
        "\n",
        "tfidf_df = tfidf_model.transform(clean_words_df)\n",
        "\n",
        "\n",
        "print(\"📊 Calcolo TF-IDF completato. Ogni capitolo è ora un vettore di 'features'.\")\n",
        "tfidf_df.select(\"chapter\", \"features\").show(truncate=50)\n"
      ],
      "metadata": {
        "colab": {
          "base_uri": "https://localhost:8080/"
        },
        "id": "PZhjtp4VIHrs",
        "outputId": "405846c5-5b4a-4e36-856e-6078930709ae"
      },
      "execution_count": 67,
      "outputs": [
        {
          "output_type": "stream",
          "name": "stdout",
          "text": [
            "📊 Calcolo TF-IDF completato. Ogni capitolo è ora un vettore di 'features'.\n",
            "+-----------------------------------------+--------------------------------------------------+\n",
            "|                                  chapter|                                          features|\n",
            "+-----------------------------------------+--------------------------------------------------+\n",
            "|                                     NULL|(9260,[0,1,2,3,4,5,6,8,9,10,11,12,13,14,15,16,1...|\n",
            "|       Chapter 1 . A Long-expected Party |(9260,[0,1,2,3,4,5,6,7,8,9,10,11,12,13,14,15,16...|\n",
            "|      Chapter 2 . The Shadow of the Past |(9260,[0,1,2,3,4,5,6,7,8,9,10,11,12,13,14,15,16...|\n",
            "|            Chapter 3 . Three is Company |(9260,[0,1,2,3,4,5,6,7,8,9,10,11,12,13,14,15,16...|\n",
            "|    Chapter 4 . A Short Cut to Mushrooms |(9260,[0,1,2,3,4,5,6,7,8,9,10,11,12,13,14,15,17...|\n",
            "|       Chapter 5 . A Conspiracy Unmasked |(9260,[0,1,2,3,4,5,6,7,8,9,10,11,12,13,14,15,16...|\n",
            "|               Chapter 6. The Old Forest |(9260,[0,1,2,3,4,5,6,7,8,9,10,11,12,13,14,15,16...|\n",
            "|Chapter 7 . In the House of Tom Bombadil |(9260,[0,1,2,3,4,5,6,7,8,9,10,11,12,13,14,15,16...|\n",
            "|     Chapter 8 . Fog on the Barrow-Downs |(9260,[0,1,2,3,4,5,6,7,8,9,10,11,12,13,14,15,16...|\n",
            "|              Chapter 9 . At the Sign of |(9260,[0,1,2,3,4,5,6,7,8,9,10,11,12,13,14,15,16...|\n",
            "|                     Chapter 10. Strider |(9260,[0,1,2,3,4,5,6,7,8,9,10,11,12,13,14,15,16...|\n",
            "|         Chapter 11. A Knife in the Dark |(9260,[0,1,2,3,4,5,6,7,8,9,10,11,12,13,14,15,16...|\n",
            "|         Chapter 12 . Flight to the Ford |(9260,[0,1,2,3,4,5,6,7,8,9,10,11,12,13,14,15,16...|\n",
            "|               Chapter 1 . Many Meetings |(9260,[0,1,2,3,4,5,6,7,8,9,10,11,12,13,14,15,16...|\n",
            "|       Chapter 2 . The Council of Elrond |(9260,[0,1,2,3,4,5,6,7,8,9,10,11,12,13,14,15,16...|\n",
            "|         Chapter 3 . The Ring Goes South |(9260,[0,1,2,3,4,5,6,7,8,9,10,11,12,13,14,15,16...|\n",
            "|       Chapter 4 . A Journey in the Dark |(9260,[0,1,2,3,4,5,6,7,8,9,10,11,12,13,14,15,16...|\n",
            "|    Chapter 5 . The Bridge of Khazad-dym |(9260,[0,1,2,3,4,5,6,7,8,9,10,11,12,13,14,15,16...|\n",
            "|                  Chapter 6 . Lothlurien |(9260,[0,1,2,3,4,5,6,7,8,9,10,11,12,13,14,15,16...|\n",
            "|     Chapter 7 . The Mirror of Galadriel |(9260,[0,1,2,3,4,5,6,7,8,9,10,11,12,13,14,15,16...|\n",
            "+-----------------------------------------+--------------------------------------------------+\n",
            "only showing top 20 rows\n",
            "\n"
          ]
        }
      ]
    },
    {
      "cell_type": "code",
      "source": [
        "# Recupera il vocabolario\n",
        "vocab = tfidf_model.stages[0].vocabulary  # lista di parole in ordine di indice\n",
        "\n",
        "from pyspark.ml.linalg import DenseVector\n",
        "\n",
        "def top_tfidf_words(features, vocab, top_n=10):\n",
        "    # converte il vettore TF-IDF in lista (DenseVector)\n",
        "    values = features.toArray()\n",
        "    # ordina gli indici per valore decrescente\n",
        "    top_indices = values.argsort()[::-1][:top_n]\n",
        "    # restituisce le parole più importanti\n",
        "    return [vocab[i] for i in top_indices]\n",
        "\n",
        "# UDF per applicare la funzione\n",
        "from pyspark.sql.functions import udf\n",
        "from pyspark.sql.types import ArrayType, StringType\n",
        "\n",
        "top_words_udf = udf(lambda v: top_tfidf_words(v, vocab, 10), ArrayType(StringType()))\n",
        "\n",
        "tfidf_keywords_df = tfidf_df.withColumn(\"top_words\", top_words_udf(col(\"features\")))\n",
        "\n",
        "# Mostra le top 10 parole chiave per capitolo\n",
        "tfidf_keywords_df.select(\"chapter\", \"top_words\").show(truncate=80)\n",
        "\n"
      ],
      "metadata": {
        "id": "y3CSYrJyNsx-",
        "outputId": "65d1766d-6f0d-44e7-ecb3-389e154ae2ab",
        "colab": {
          "base_uri": "https://localhost:8080/"
        }
      },
      "execution_count": 68,
      "outputs": [
        {
          "output_type": "stream",
          "name": "stdout",
          "text": [
            "+-----------------------------------------+--------------------------------------------------------------------------------+\n",
            "|                                  chapter|                                                                       top_words|\n",
            "+-----------------------------------------+--------------------------------------------------------------------------------+\n",
            "|                                     NULL|[book, sr, history, smials, westmarch, gollum, families, thain, experience, r...|\n",
            "|       Chapter 1 . A Long-expected Party |[sackvillebagginses, bag, gaffer, presents, joke, goodbye, bilbo, tooks, bagg...|\n",
            "|      Chapter 2 . The Shadow of the Past |     [gollum, hated, smjagol, ted, shears, knows, birthday, sir, pity, precious]|\n",
            "|            Chapter 3 . Three is Company |[gildor, rider, bag, lane, lobelia, sir, sold, gaffer, sackvillebagginses, sn...|\n",
            "|    Chapter 4 . A Short Cut to Mushrooms |   [farmer, maggot, dogs, ferry, waggon, lane, mushrooms, ho, causeway, maggots]|\n",
            "|       Chapter 5 . A Conspiracy Unmasked |[brandy, fatty, maggot, fredegar, bath, conspiracy, bucklanders, family, ride...|\n",
            "|               Chapter 6. The Old Forest |           [willow, forest, tom, ponies, dol, bonfire, hey, crack, willows, hop]|\n",
            "|Chapter 7 . In the House of Tom Bombadil |[tom, goldberry, nightly, bombadil, willow, candle, ding, wights, riverdaught...|\n",
            "|     Chapter 8 . Fog on the Barrow-Downs |      [tom, ponies, lumpkin, goldberry, mound, hoy, fog, barrow, bombadil, line]|\n",
            "|              Chapter 9 . At the Sign of |    [butterbur, bree, inn, landlord, breefolk, underhill, cat, cow, nob, fiddle]|\n",
            "|                     Chapter 10. Strider |[strider, letter, butterbur, nob, landlord, bree, underhill, baggins, gandalf...|\n",
            "|         Chapter 11. A Knife in the Dark |   [strider, tinviel, beren, bree, gilgalad, bob, dell, weathertop, ferny, bill]|\n",
            "|         Chapter 12 . Flight to the Ford |   [strider, glorfindel, troll, ford, rider, trolls, bone, horse, riders, wound]|\n",
            "|               Chapter 1 . Many Meetings |[elrond, gluin, glorfindel, flood, music, feast, strider, dnadan, rivendell, ...|\n",
            "|       Chapter 2 . The Council of Elrond |[saruman, isildur, elrond, radagast, sauron, gluin, boromir, galdor, gondor, ...|\n",
            "|         Chapter 3 . The Ring Goes South |[snow, caradhras, boromir, aragorn, redhorn, elrond, gimli, flakes, hollin, r...|\n",
            "|       Chapter 4 . A Journey in the Dark |       [gimli, moria, staff, mines, boromir, bill, arch, wolves, enter, legolas]|\n",
            "|    Chapter 5 . The Bridge of Khazad-dym |    [doom, drumbeats, chamber, balrog, boromir, balin, drums, gimli, ores, hall]|\n",
            "|                  Chapter 6 . Lothlurien |[haldir, nimrodel, legolas, amroth, gimli, flet, lothlurien, silverlode, luri...|\n",
            "|     Chapter 7 . The Mirror of Galadriel |[galadriel, lady, celeborn, mirror, haldir, basin, lothlurien, fountain, city...|\n",
            "+-----------------------------------------+--------------------------------------------------------------------------------+\n",
            "only showing top 20 rows\n",
            "\n"
          ]
        }
      ]
    }
  ]
}